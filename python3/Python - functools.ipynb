{
 "cells": [
  {
   "cell_type": "markdown",
   "metadata": {},
   "source": [
    "### `functools` — Higher-order functions and operations on callable objects"
   ]
  },
  {
   "cell_type": "markdown",
   "metadata": {},
   "source": [
    "#### 1. reduce()\n",
    "\n",
    "> **Signature**: `functools.reduce(function, iterable[, initializer])`\n",
    "\n",
    "Apply function of two arguments cumulatively to the items of iterable, from left to right, so as to reduce the iterable to a single value. For example, `reduce(lambda x, y: x+y, [1, 2, 3, 4, 5])` calculates `((((1+2)+3)+4)+5)`. The `left` argument, `x`, is the `accumulated` value and the `right` argument, y, is the update value from the iterable. If the optional initializer is present, it is placed before the items of the iterable in the calculation, and serves as a default when the iterable is empty. If initializer is not given and iterable contains only one item, the first item is returned.\n",
    "\n",
    "Roughly equivalent to:\n",
    "\n",
    "```py\n",
    "# function is assume operators.add, yeilding result per iteration \n",
    "def reduce(function, iterable, initializer=None):\n",
    "    it = iter(iterable)\n",
    "    if initializer is None:\n",
    "        value = next(it)\n",
    "    else:\n",
    "        value = initializer\n",
    "    for element in it:\n",
    "        value = function(value, element)\n",
    "    return value\n",
    "```"
   ]
  },
  {
   "cell_type": "code",
   "execution_count": 1,
   "metadata": {},
   "outputs": [],
   "source": [
    "from functools import reduce"
   ]
  },
  {
   "cell_type": "code",
   "execution_count": 2,
   "metadata": {},
   "outputs": [
    {
     "data": {
      "text/plain": [
       "15"
      ]
     },
     "execution_count": 2,
     "metadata": {},
     "output_type": "execute_result"
    }
   ],
   "source": [
    "reduce(lambda x, y: x + y, [1,2,3,4,5]) # reduce(func, iterable, *initializer) # initializer is optional"
   ]
  },
  {
   "cell_type": "code",
   "execution_count": 3,
   "metadata": {},
   "outputs": [
    {
     "data": {
      "text/plain": [
       "115"
      ]
     },
     "execution_count": 3,
     "metadata": {},
     "output_type": "execute_result"
    }
   ],
   "source": [
    "reduce(lambda x, y: x + y, [1,2,3,4,5], 100) # pass with initializer"
   ]
  },
  {
   "cell_type": "code",
   "execution_count": 4,
   "metadata": {},
   "outputs": [
    {
     "data": {
      "text/plain": [
       "200"
      ]
     },
     "execution_count": 4,
     "metadata": {},
     "output_type": "execute_result"
    }
   ],
   "source": [
    "# or\n",
    "from operator import add\n",
    "reduce(add, [10,20,30,40], 100) # pass operators.add function as func parameter"
   ]
  },
  {
   "cell_type": "code",
   "execution_count": 5,
   "metadata": {},
   "outputs": [
    {
     "data": {
      "text/plain": [
       "200"
      ]
     },
     "execution_count": 5,
     "metadata": {},
     "output_type": "execute_result"
    }
   ],
   "source": [
    "# or\n",
    "sum([10,20,30,40], 100)"
   ]
  },
  {
   "cell_type": "code",
   "execution_count": 6,
   "metadata": {},
   "outputs": [
    {
     "name": "stdout",
     "output_type": "stream",
     "text": [
      "5\n",
      "1\n",
      "15\n"
     ]
    }
   ],
   "source": [
    "opt_list = [max, min, add]\n",
    "\n",
    "for opt in opt_list:\n",
    "    print(reduce(lambda x, y: opt(x, y), [1,2,3,4,5]))"
   ]
  },
  {
   "cell_type": "markdown",
   "metadata": {},
   "source": [
    "---\n",
    "#### 2. @functools.total_ordering\n",
    "Given a class defining one or more rich comparison ordering methods, this class decorator supplies the rest. This simplifies the effort involved in specifying all of the possible rich comparison operations:\n",
    "\n",
    "The class must define one of `__lt__()`, `__le__()`, `__gt__()`, or `__ge__()`. In addition, the class `should supply` an `__eq__()` method.\n",
    "\n",
    "- `__eq__` : `==`\n",
    "- `__le__` : `<=`\n",
    "- `__gt__` : `>`\n",
    "- `__ge__` : `>=`\n",
    "- `__lt__` : `<`\n",
    "\n",
    "and more..."
   ]
  },
  {
   "cell_type": "code",
   "execution_count": 7,
   "metadata": {},
   "outputs": [],
   "source": [
    "from functools import total_ordering"
   ]
  },
  {
   "cell_type": "code",
   "execution_count": 8,
   "metadata": {},
   "outputs": [],
   "source": [
    "@total_ordering\n",
    "class Car:\n",
    "    def __init__(self, model, mileage):\n",
    "        self.model = model\n",
    "        self.mileage = mileage\n",
    "    \n",
    "    # required one      \n",
    "    def __lt__(self, other):\n",
    "        return self.mileage < other.mileage\n",
    "    \n",
    "    # required one     \n",
    "    def __eq__(self, other):\n",
    "        return self.mileage == other.mileage\n",
    "    \n",
    "    # ... we don't implement other odering magic/dunder method\n",
    "    # ... istead of implement we use @total_ordering decorator     "
   ]
  },
  {
   "cell_type": "code",
   "execution_count": 9,
   "metadata": {},
   "outputs": [],
   "source": [
    "c1 = Car('BMW', 90)\n",
    "c2 = Car('Ford', 70)"
   ]
  },
  {
   "cell_type": "code",
   "execution_count": 10,
   "metadata": {},
   "outputs": [
    {
     "data": {
      "text/plain": [
       "False"
      ]
     },
     "execution_count": 10,
     "metadata": {},
     "output_type": "execute_result"
    }
   ],
   "source": [
    "c1 == c2"
   ]
  },
  {
   "cell_type": "code",
   "execution_count": 11,
   "metadata": {},
   "outputs": [
    {
     "data": {
      "text/plain": [
       "(True, False, True, False, True)"
      ]
     },
     "execution_count": 11,
     "metadata": {},
     "output_type": "execute_result"
    }
   ],
   "source": [
    "c1 > c2, c1 < c2, c1 >= c2, c1 <= c2, c1 != c2 # we don't implement all of that but all works"
   ]
  },
  {
   "cell_type": "markdown",
   "metadata": {},
   "source": [
    "---\n",
    "#### 3. @functools.cached_property(func)\n",
    "Transform a method of a class into a property whose value is computed once and then cached as a normal attribute for the life of the instance. Similar to `property()`, with the addition of caching. Useful for expensive computed properties of instances that are otherwise effectively immutable.\n",
    "\n",
    "Example:\n",
    "\n",
    "```py\n",
    "class DataSet:\n",
    "\n",
    "    def __init__(self, sequence_of_numbers):\n",
    "        self._data = tuple(sequence_of_numbers)\n",
    "\n",
    "    @cached_property\n",
    "    def stdev(self):\n",
    "        return statistics.stdev(self._data)\n",
    "```\n",
    "\n",
    "#### Same as above\n",
    "\n",
    "If a mutable mapping is not available or if space-efficient key sharing is desired, an effect similar to cached_property() can be achieved by a stacking property() on top of cache():\n",
    "\n",
    "\n",
    "```py\n",
    "class DataSet:\n",
    "    def __init__(self, sequence_of_numbers):\n",
    "        self._data = sequence_of_numbers\n",
    "\n",
    "    @property\n",
    "    @cache\n",
    "    def stdev(self):\n",
    "        return statistics.stdev(self._data)\n",
    "```"
   ]
  },
  {
   "cell_type": "markdown",
   "metadata": {},
   "source": [
    "##### First understand @property\n",
    "\n",
    "[@property](https://docs.python.org/3/library/functions.html#property)"
   ]
  },
  {
   "cell_type": "code",
   "execution_count": 12,
   "metadata": {},
   "outputs": [],
   "source": [
    "class Marksheet:\n",
    "    def __init__(self, *args):\n",
    "        self.marks = args\n",
    "    \n",
    "    @property\n",
    "    def total(self):\n",
    "        print(\"Calculating total: \")\n",
    "        print(sum(self.marks))\n",
    "    \n",
    "    @property\n",
    "    def average(self):\n",
    "        print(\"Calculating average: \")\n",
    "        print(sum(self.marks) / len(self.marks))\n",
    "    \n",
    "    def min(self):\n",
    "        return min(self.marks)"
   ]
  },
  {
   "cell_type": "code",
   "execution_count": 13,
   "metadata": {},
   "outputs": [],
   "source": [
    "m = Marksheet(90,80, 89)"
   ]
  },
  {
   "cell_type": "code",
   "execution_count": 14,
   "metadata": {},
   "outputs": [
    {
     "name": "stdout",
     "output_type": "stream",
     "text": [
      "Calculating total: \n",
      "259\n"
     ]
    }
   ],
   "source": [
    "m.total # we don't need to call it like `m.total()`"
   ]
  },
  {
   "cell_type": "code",
   "execution_count": 15,
   "metadata": {},
   "outputs": [
    {
     "name": "stdout",
     "output_type": "stream",
     "text": [
      "Calculating average: \n",
      "86.33333333333333\n"
     ]
    }
   ],
   "source": [
    "m.average # don't need to use first () brackets"
   ]
  },
  {
   "cell_type": "code",
   "execution_count": 16,
   "metadata": {},
   "outputs": [
    {
     "data": {
      "text/plain": [
       "80"
      ]
     },
     "execution_count": 16,
     "metadata": {},
     "output_type": "execute_result"
    }
   ],
   "source": [
    "m.min() # using  first () brackets. Because this is a class method."
   ]
  },
  {
   "cell_type": "markdown",
   "metadata": {},
   "source": [
    "##### Now understand @cache_property"
   ]
  },
  {
   "cell_type": "code",
   "execution_count": 17,
   "metadata": {},
   "outputs": [],
   "source": [
    "from functools import cached_property"
   ]
  },
  {
   "cell_type": "code",
   "execution_count": 18,
   "metadata": {},
   "outputs": [],
   "source": [
    "class Marksheet:\n",
    "    def __init__(self, *marks):\n",
    "        self.marks = marks\n",
    "    \n",
    "    @cached_property\n",
    "    def total(self):\n",
    "        print(\"Calculating total: \")\n",
    "        return sum(self.marks)\n",
    "    \n",
    "    @property\n",
    "    def average(self):\n",
    "        print(\"Calculating average: \")\n",
    "        return sum(self.marks) / len(self.marks)"
   ]
  },
  {
   "cell_type": "code",
   "execution_count": 19,
   "metadata": {},
   "outputs": [],
   "source": [
    "mark = Marksheet(59, 89, 99)"
   ]
  },
  {
   "cell_type": "code",
   "execution_count": 20,
   "metadata": {},
   "outputs": [
    {
     "name": "stdout",
     "output_type": "stream",
     "text": [
      "Calculating total: \n"
     ]
    },
    {
     "data": {
      "text/plain": [
       "247"
      ]
     },
     "execution_count": 20,
     "metadata": {},
     "output_type": "execute_result"
    }
   ],
   "source": [
    "mark.total # call class property"
   ]
  },
  {
   "cell_type": "code",
   "execution_count": 21,
   "metadata": {},
   "outputs": [
    {
     "data": {
      "text/plain": [
       "247"
      ]
     },
     "execution_count": 21,
     "metadata": {},
     "output_type": "execute_result"
    }
   ],
   "source": [
    "mark.total # didn't call the property, return the cache_result"
   ]
  },
  {
   "cell_type": "code",
   "execution_count": 22,
   "metadata": {},
   "outputs": [
    {
     "name": "stdout",
     "output_type": "stream",
     "text": [
      "Calculating average: \n"
     ]
    },
    {
     "data": {
      "text/plain": [
       "82.33333333333333"
      ]
     },
     "execution_count": 22,
     "metadata": {},
     "output_type": "execute_result"
    }
   ],
   "source": [
    "mark.average"
   ]
  },
  {
   "cell_type": "code",
   "execution_count": 23,
   "metadata": {},
   "outputs": [
    {
     "name": "stdout",
     "output_type": "stream",
     "text": [
      "Calculating average: \n"
     ]
    },
    {
     "data": {
      "text/plain": [
       "82.33333333333333"
      ]
     },
     "execution_count": 23,
     "metadata": {},
     "output_type": "execute_result"
    }
   ],
   "source": [
    "mark.average # I hope now you understand clearly the @cache_property"
   ]
  },
  {
   "cell_type": "markdown",
   "metadata": {},
   "source": [
    "---\n",
    "#### 4. @functools.lru_cache(maxsize=128, typed=False)\n",
    "\n",
    "@functools.lru_cache(user_function)\n",
    "\n",
    "Decorator to wrap a function with a `memoizing callable` that saves up to the maxsize most recent calls. It can save time when an expensive or I/O bound function is periodically called with the same arguments.\n",
    "\n",
    "Since a dictionary is used to cache results, the positional and keyword arguments to the function must be hashable.\n",
    "\n",
    "Distinct argument patterns may be considered to be distinct calls with `separate` cache entries. For example, `f(a=1, b=2)` and `f(b=2, a=1)` differ in their keyword argument order and may have two separate cache entries.\n",
    "\n",
    "If user_function is specified, it must be a callable. This allows the lru_cache decorator to be applied directly to a user function, leaving the maxsize at its default value of 128:\n",
    "\n",
    "```py\n",
    "@lru_cache\n",
    "def count_vowels(sentence):\n",
    "    sentence = sentence.casefold()\n",
    "    return sum(sentence.count(vowel) for vowel in 'aeiou')\n",
    "```\n",
    "\n",
    "If maxsize is set to `None`, the `LRU feature is disabled and the cache can grow without bound`.\n",
    "\n",
    "If `typed` is set to `true`, function arguments of different types will be cached `separately`. For example, `f(3)` and `f(3.0)` will be treated as distinct calls with distinct results."
   ]
  },
  {
   "cell_type": "code",
   "execution_count": 24,
   "metadata": {},
   "outputs": [],
   "source": [
    "from functools import lru_cache\n",
    "@lru_cache(maxsize=3)\n",
    "def fib(n):\n",
    "    if n < 2:\n",
    "        return n\n",
    "    print(f'Calculating fib({n})')\n",
    "    return fib(n-1) + fib(n-2)"
   ]
  },
  {
   "cell_type": "code",
   "execution_count": 25,
   "metadata": {},
   "outputs": [
    {
     "name": "stdout",
     "output_type": "stream",
     "text": [
      "Calculating fib(2)\n",
      "Calculating fib(3)\n",
      "Calculating fib(4)\n",
      "Calculating fib(5)\n",
      "Calculating fib(6)\n",
      "Calculating fib(7)\n",
      "Calculating fib(8)\n",
      "Calculating fib(9)\n",
      "Calculating fib(10)\n",
      "Calculating fib(11)\n",
      "Calculating fib(12)\n",
      "Calculating fib(13)\n",
      "Calculating fib(14)\n"
     ]
    },
    {
     "data": {
      "text/plain": [
       "[0, 1, 1, 2, 3, 5, 8, 13, 21, 34, 55, 89, 144, 233, 377]"
      ]
     },
     "execution_count": 25,
     "metadata": {},
     "output_type": "execute_result"
    }
   ],
   "source": [
    "[fib(x) for x in range(15)]"
   ]
  },
  {
   "cell_type": "code",
   "execution_count": 26,
   "metadata": {},
   "outputs": [
    {
     "data": {
      "text/plain": [
       "CacheInfo(hits=26, misses=15, maxsize=3, currsize=3)"
      ]
     },
     "execution_count": 26,
     "metadata": {},
     "output_type": "execute_result"
    }
   ],
   "source": [
    "fib.cache_info()"
   ]
  },
  {
   "cell_type": "code",
   "execution_count": null,
   "metadata": {},
   "outputs": [],
   "source": []
  }
 ],
 "metadata": {
  "kernelspec": {
   "display_name": "Python 3",
   "language": "python",
   "name": "python3"
  },
  "language_info": {
   "codemirror_mode": {
    "name": "ipython",
    "version": 3
   },
   "file_extension": ".py",
   "mimetype": "text/x-python",
   "name": "python",
   "nbconvert_exporter": "python",
   "pygments_lexer": "ipython3",
   "version": "3.8.6"
  }
 },
 "nbformat": 4,
 "nbformat_minor": 4
}
